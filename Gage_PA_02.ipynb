{
  "metadata": {
    "kernelspec": {
      "name": "python",
      "display_name": "Python (Pyodide)",
      "language": "python"
    },
    "language_info": {
      "codemirror_mode": {
        "name": "python",
        "version": 3
      },
      "file_extension": ".py",
      "mimetype": "text/x-python",
      "name": "python",
      "nbconvert_exporter": "python",
      "pygments_lexer": "ipython3",
      "version": "3.8"
    }
  },
  "nbformat_minor": 5,
  "nbformat": 4,
  "cells": [
    {
      "id": "b329987d-a05d-4a34-8b42-ea26b9a49425",
      "cell_type": "markdown",
      "source": "# 2. Programming Assignments: Numpy and Pandas Basics ",
      "metadata": {}
    },
    {
      "id": "7b2e25d8-394b-4e8e-9180-b2a6f64ab200",
      "cell_type": "markdown",
      "source": "## NumPy: Average exam scores ",
      "metadata": {}
    },
    {
      "id": "7ec4b1ac-d57c-4a70-8448-19764fea877b",
      "cell_type": "markdown",
      "source": "Write a program that reads two sets of exam scores of five students from user input and stores the scores into two NumPy arrays (exam1 and exam2). The program then calculates the average of the two exams for each of the five students and outputs the average scores as a NumPy array. The program finally counts the number of average scores that are 80 or higher and outputs the count.\n\nEx: If the input of the two sets of scores are:\n\n    75 80 65 82 92\n    88 85 75 95 73\n\nwhere [75 80 65 82 92] is stored in NumPy array exam1, and [88 85 75 95 73] is stored in NumPy array exam2. The program then outputs:\n\n    Average scores: [81.5 82.5 70.  88.5 82.5]\n    Number of students who received 80 and above: 4\n\n",
      "metadata": {}
    },
    {
      "id": "8cacbc8f-d0f9-4382-8c98-f4fb3ee35321",
      "cell_type": "code",
      "source": "import numpy as np\n\nexam1 = np.array([85, 80, 30, 82, 92])\nexam2 = np.array([98, 86, 76, 20, 73])\n\naverage_scores = (exam1 + exam2) / 2\n\nprint(\"Average scores:\", average_scores)\n\ncount_80_and_above = np.sum(average_scores >= 80)\n\nprint(\"Number of students who received 80 and above:\", count_80_and_above)\n\n\n\n",
      "metadata": {
        "trusted": true
      },
      "outputs": [
        {
          "name": "stdout",
          "text": "Average scores: [91.5 83.  53.  51.  82.5]\nNumber of students who received 80 and above: 3\n",
          "output_type": "stream"
        }
      ],
      "execution_count": 1
    },
    {
      "id": "6723fb5e-2609-4ffa-8b36-58b7541c5ff0",
      "cell_type": "code",
      "source": "",
      "metadata": {},
      "outputs": [],
      "execution_count": null
    },
    {
      "id": "580cae23-9502-44b6-96ee-5b8681410249",
      "cell_type": "markdown",
      "source": "## Numpy: Curve student scores ",
      "metadata": {}
    },
    {
      "id": "63a53d99-6513-41b0-8e23-c17a435d9476",
      "cell_type": "markdown",
      "source": "Given the name of a text file that is read from user input and contains student scores, complete a program to perform the following tasks:\n\n- Load student scores from the text file into a NumPy array.\n- Calculate the median and average of the student scores.\n- Curve the student scores by adding the difference of 100 and the maximum score (100 - max) to each score. As a result, the new maximum score would become 100.\n- Output the median and average scores with two digits after the decimal point.\n- Output the curved scores as a NumPy array. End the last output with a newline.\n- Follow the output format as shown in the example below.\nNote: Different input text files will be used by the auto-grader. The number of student scores in each file may vary.\n\nEx: If the input of the program is:\n\n    scores.txt\nthe output is:\n\n    Median = 73.00\n    Average = 73.32\n    Curved scores = [ 70  95  84  68  98  73  67  88  73 100  79  92 100  83  98  85 100  85 77  95  99  81  69  74  75]\n",
      "metadata": {}
    },
    {
      "id": "4b3b4689-3f94-4db9-b243-146cccc76b78",
      "cell_type": "code",
      "source": "\nimport numpy as np\n\nscores = np.array([73, 75, 77, 73, 50, 51, 75, 72, 77, 55, 48, 65, 53, 68, 48, \n                   65, 50, 59, 54, 77, 64, 57, 68, 76, 74, 74, 60, 50, 70, 53, \n                   62, 52, 69, 72, 61, 53, 62, 66, 72, 59, 64, 72, 58, 50, 65, \n                   61, 58, 49, 63, 72, 70, 61, 52, 59, 64])\n\nmedian_score = np.median(scores)\naverage_score = np.mean(scores)\n\ncurved_scores = scores + (100 - np.max(scores))\n\nprint(f\"Median = {median_score:.2f}\")\nprint(f\"Average = {average_score:.2f}\")\nprint(\"Curved scores =\", curved_scores)\n\n",
      "metadata": {
        "trusted": true
      },
      "outputs": [
        {
          "name": "stdout",
          "text": "Median = 63.00\nAverage = 62.85\nCurved scores = [ 96  98 100  96  73  74  98  95 100  78  71  88  76  91  71  88  73  82\n  77 100  87  80  91  99  97  97  83  73  93  76  85  75  92  95  84  76\n  85  89  95  82  87  95  81  73  88  84  81  72  86  95  93  84  75  82\n  87]\n",
          "output_type": "stream"
        }
      ],
      "execution_count": 2
    },
    {
      "id": "6a77a77d-980b-4337-bc16-e85cff4a7c8f",
      "cell_type": "code",
      "source": "",
      "metadata": {},
      "outputs": [],
      "execution_count": null
    },
    {
      "id": "cd0d36cb-6e54-4ee2-8e66-9522dfdc7acc",
      "cell_type": "markdown",
      "source": "## Pandas: Course grade statistics  ",
      "metadata": {}
    },
    {
      "id": "c17d9bd5-0b8b-4e49-91fc-e2cae3bfda9f",
      "cell_type": "markdown",
      "source": "Given the file name of a .tsv file read from user input containing student names and the respective course assignment grades, complete a program that performs the following tasks:\n\n- Read the input file as a pandas dataframe.\n- Output the students' names and grades in descending order of Finals scores.\n- Output each assignment's max score.\n- Output the median and average of each assignment's scores.\n- Output the standard deviation of each assignment's scores.\n\nNOTES:\n\n- Steps 3 through 5 should only require one function for each step. Ex. Finding the max of each assignment uses max()\n- Append .to_string() to the end of the function call in order to silence an extraneous line that occurs at the end of the output.\n- For steps 3, 4, and 5, the functions used will require the parameter numeric_only=True to be passed to specify that only numbers will be calculated (as the input file contains strings for student names).\n\nInput and Output Example\n\nEx: If the input of the program is:\n    StudentInfo.tsv\nThe output is:\n\n          Lname   Fname  Midterm1  Midterm2  Final\n    1  Bradshaw  Reagan        96        97     88\n    2  Charlton   Caius        73        94     80\n    0   Barrett    Edan        70        45     59\n    4     Stern  Brenda        90        86     45\n    3      Mayo  Tyrese        88        61     36\n    \n    Max Scores:\n    Midterm1    96\n    Midterm2    97\n    Final       88\n    \n    Median Scores:\n    Midterm1    88.0\n    Midterm2    86.0\n    Final       59.0\n    \n    Average Scores:\n    Midterm1    83.4\n    Midterm2    76.6\n    Final       61.6\n    \n    Standard Deviation:\n    Midterm1    11.304866\n    Midterm2    22.634045\n    Final       22.210358",
      "metadata": {}
    },
    {
      "id": "ff097de1-6c77-4807-89f9-826e12c0d3e1",
      "cell_type": "code",
      "source": "\nimport pandas as pd\n\ndata = {\n    'Lname': ['Barrett', 'Bradshaw', 'Charlton', 'Mayo', 'Stern', 'Mayo', 'Stern'],\n    'Fname': ['Edan', 'Reagan', 'Caius', 'Tyrese', 'Brenda', 'Alice', 'Bob'],\n    'Midterm1': [70, 96, 45, 75, 90, 92, 90],\n    'Midterm2': [85, 97, 94, 66, 86, 61, 86],\n    'Final': [59, 88, 80, 48, 45, 36, 45]\n}\n\ndf = pd.DataFrame(data)\n\nprint(df.sort_values('Final', ascending=False).to_string(index=False))\n\nprint(\"\\nMax Scores:\")\n\nprint(df[['Midterm1', 'Midterm2', 'Final']].max(numeric_only=True).to_string())\n\nprint(\"\\nMedian Scores:\")\n\nprint(df[['Midterm1', 'Midterm2', 'Final']].median(numeric_only=True).to_string())\n\nprint(\"\\nAverage Scores:\")\n\nprint(df[['Midterm1', 'Midterm2', 'Final']].mean(numeric_only=True).to_string())\n\nprint(\"\\nStandard Deviation:\")\n\nprint(df[['Midterm1', 'Midterm2', 'Final']].std(numeric_only=True).to_string())",
      "metadata": {
        "trusted": true
      },
      "outputs": [
        {
          "name": "stderr",
          "text": "<ipython-input-3-2904c673ab9b>:1: DeprecationWarning: \nPyarrow will become a required dependency of pandas in the next major release of pandas (pandas 3.0),\n(to allow more performant data types, such as the Arrow string type, and better interoperability with other libraries)\nbut was not found to be installed on your system.\nIf this would cause problems for you,\nplease provide us feedback at https://github.com/pandas-dev/pandas/issues/54466\n        \n  import pandas as pd\n",
          "output_type": "stream"
        },
        {
          "name": "stdout",
          "text": "   Lname  Fname  Midterm1  Midterm2  Final\nBradshaw Reagan        96        97     88\nCharlton  Caius        45        94     80\n Barrett   Edan        70        85     59\n    Mayo Tyrese        75        66     48\n   Stern Brenda        90        86     45\n   Stern    Bob        90        86     45\n    Mayo  Alice        92        61     36\n\nMax Scores:\nMidterm1    96\nMidterm2    97\nFinal       88\n\nMedian Scores:\nMidterm1    90.0\nMidterm2    86.0\nFinal       48.0\n\nAverage Scores:\nMidterm1    79.714286\nMidterm2    82.142857\nFinal       57.285714\n\nStandard Deviation:\nMidterm1    18.025115\nMidterm2    13.582201\nFinal       19.593488\n",
          "output_type": "stream"
        }
      ],
      "execution_count": 3
    },
    {
      "id": "72d90295-b8b3-4c49-9334-690ab9c0956d",
      "cell_type": "code",
      "source": "",
      "metadata": {},
      "outputs": [],
      "execution_count": null
    }
  ]
}